{
 "cells": [
  {
   "cell_type": "code",
   "execution_count": 1,
   "id": "af15c47e-bae3-49c5-8dcb-87efbfb8d041",
   "metadata": {
    "tags": []
   },
   "outputs": [],
   "source": [
    "import requests\n",
    "import json\n",
    "import io\n",
    "import pickle\n",
    "\n",
    "import pandas as pd"
   ]
  },
  {
   "cell_type": "code",
   "execution_count": 2,
   "id": "e4263016-bced-4c70-b8d3-8f78b09b1f05",
   "metadata": {
    "tags": []
   },
   "outputs": [],
   "source": [
    "files_endpt = \"https://api.gdc.cancer.gov/files\""
   ]
  },
  {
   "cell_type": "markdown",
   "id": "b6bc406d-2cae-4590-9a13-6a72e798a448",
   "metadata": {},
   "source": [
    "# Field Groups"
   ]
  },
  {
   "cell_type": "markdown",
   "id": "c85c6b79-bdaa-499d-88cb-a4f0ce5475a9",
   "metadata": {},
   "source": [
    "https://docs.gdc.cancer.gov/API/Users_Guide/Appendix_A_Available_Fields/#field-group-listing-by-endpoint\n",
    "\n",
    "https://docs.gdc.cancer.gov/Encyclopedia/pages/TCGA_Barcode/\n",
    "\n",
    "https://gdc.cancer.gov/resources-tcga-users/tcga-code-tables"
   ]
  },
  {
   "cell_type": "code",
   "execution_count": 3,
   "id": "2fe15eb0-1396-425c-b71a-cc27f6fcf3b7",
   "metadata": {
    "tags": []
   },
   "outputs": [],
   "source": [
    "filters = {\n",
    "    \"op\": \"and\",\n",
    "    \"content\":[\n",
    "        {\n",
    "        \"op\": \"in\",\n",
    "        \"content\":{\n",
    "            \"field\": \"cases.primary_site\",\n",
    "            \"value\": [\"Breast\", \"Brain\", \"Bronchus and lung\", \"Colon\"]\n",
    "            }\n",
    "        },\n",
    "        {\n",
    "        \"op\": \"=\",\n",
    "        \"content\":{\n",
    "            \"field\": \"files.data_format\",\n",
    "            \"value\": [\"SVS\"]\n",
    "            }\n",
    "        }\n",
    "    ]\n",
    "}"
   ]
  },
  {
   "cell_type": "code",
   "execution_count": 4,
   "id": "42d7f971-43a6-4244-9898-02063f20d41a",
   "metadata": {
    "tags": []
   },
   "outputs": [],
   "source": [
    "json_params = {\n",
    "    \"filters\": json.dumps(filters),\n",
    "    \"expand\": \"cases.project,cases.demographic,cases.diagnoses,cases.samples,cases.tissue_source_site,cases.project,cases\",\n",
    "    \"format\": \"json\",\n",
    "    \"size\": \"20000\"\n",
    "}"
   ]
  },
  {
   "cell_type": "code",
   "execution_count": 5,
   "id": "f2b64c71-2ffc-4e5d-b44a-f7183ac5bd55",
   "metadata": {
    "tags": []
   },
   "outputs": [],
   "source": [
    "response = requests.post(files_endpt, headers={\"Content-Type\": \"application/json\"}, json=json_params)\n",
    "with open('all_metadata.json', 'w') as f:\n",
    "    json.dump(response.json(), f)"
   ]
  },
  {
   "cell_type": "code",
   "execution_count": 6,
   "id": "e0e8a1bb-b0e2-4c07-adf7-26f8f0c99b1f",
   "metadata": {
    "tags": []
   },
   "outputs": [],
   "source": [
    "csv_params = {\n",
    "    \"filters\": json.dumps(filters),\n",
    "    \"expand\": \"cases.project,cases.demographic,cases.diagnoses,cases.samples,cases.tissue_source_site,cases.project,cases\",\n",
    "    \"format\": \"csv\",\n",
    "    \"size\": \"20000\"\n",
    "}"
   ]
  },
  {
   "cell_type": "code",
   "execution_count": 7,
   "id": "b5bb7003-3115-40fa-a6e0-881f6d08d0e8",
   "metadata": {
    "tags": []
   },
   "outputs": [],
   "source": [
    "response = requests.post(files_endpt, headers={\"Content-Type\": \"application/json\"}, json=csv_params)\n",
    "df = pd.read_csv(io.StringIO(response.content.decode('utf-8')), dtype='object')\n",
    "df.to_csv('metadata.csv', index=False)"
   ]
  }
 ],
 "metadata": {
  "kernelspec": {
   "display_name": "Python 3 (ipykernel)",
   "language": "python",
   "name": "python3"
  },
  "language_info": {
   "codemirror_mode": {
    "name": "ipython",
    "version": 3
   },
   "file_extension": ".py",
   "mimetype": "text/x-python",
   "name": "python",
   "nbconvert_exporter": "python",
   "pygments_lexer": "ipython3",
   "version": "3.10.10"
  }
 },
 "nbformat": 4,
 "nbformat_minor": 5
}
