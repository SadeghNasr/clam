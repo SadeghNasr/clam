{
 "cells": [
  {
   "cell_type": "code",
   "execution_count": 1,
   "id": "44499cbd-1eb3-4ecb-aa69-389f41cf1424",
   "metadata": {
    "tags": []
   },
   "outputs": [],
   "source": [
    "import pandas as pd\n",
    "import numpy as np"
   ]
  },
  {
   "cell_type": "code",
   "execution_count": 2,
   "id": "80e89815-3291-4b5f-90ad-47de9bad0bc0",
   "metadata": {
    "tags": []
   },
   "outputs": [],
   "source": [
    "all_metadata = pd.read_csv(\"all_metadata.csv\", low_memory=False)"
   ]
  },
  {
   "cell_type": "code",
   "execution_count": 3,
   "id": "e8e1de62-3095-4831-a8bb-516dfc7c906a",
   "metadata": {
    "tags": []
   },
   "outputs": [],
   "source": [
    "fields = {\n",
    "    \"id\": \"id\",\n",
    "    \"data_format\": \"data_format\",\n",
    "    \"access\": \"access\",\n",
    "    \"file_name\": \"file_name\",\n",
    "    \"submitter_id\": \"submitter_id\",\n",
    "    \"data_category\": \"data_category\",\n",
    "    \"type\": \"type\",\n",
    "    \"file_size\": \"file_size\",\n",
    "    \"created_datetime\": \"created_datetime\",\n",
    "    \"md5sum\": \"md5sum\",\n",
    "    \"updated_datetime\": \"updated_datetime\",\n",
    "    \"file_id\": \"file_id\",\n",
    "    \"data_type\": \"data_type\",\n",
    "    \"state\": \"state\",\n",
    "    \"experimental_strategy\": \"experimental_strategy\",\n",
    "    \"version\": \"version\",\n",
    "    \"data_release\": \"data_release\",\n",
    "    \n",
    "    \"cases.0.primary_site\": \"primary_site\",\n",
    "    \"cases.0.disease_type\": \"disease_type\",\n",
    "    \"cases.0.case_id\": \"case_id\",\n",
    "    \n",
    "    \"cases.0.project.name\": \"project_name\",\n",
    "    \"cases.0.project.primary_site\": \"project_primary_site\",\n",
    "    \"cases.0.project.disease_type\": \"project_disease_type\",\n",
    "    \n",
    "    \"cases.0.diagnoses.0.ajcc_pathologic_stage\": \"diag_ajcc_pathologic_stage\",\n",
    "    \"cases.0.diagnoses.0.synchronous_malignancy\": \"diag_synchronous_malignancy\",\n",
    "    \"cases.0.diagnoses.0.tissue_or_organ_of_origin\": \"diag_tissue_or_organ_of_origin\",\n",
    "    \"cases.0.diagnoses.0.primary_diagnosis\": \"diag_primary_diagnosis\",\n",
    "    \"cases.0.diagnoses.0.prior_malignancy\": \"diag_prior_malignancy\",\n",
    "    \"cases.0.diagnoses.0.ajcc_pathologic_t\": \"diag_ajcc_pathologic_t\",\n",
    "    \"cases.0.diagnoses.0.morphology\": \"diag_morphology\",\n",
    "    \"cases.0.diagnoses.0.ajcc_pathologic_n\": \"diag_ajcc_pathologic_n\",\n",
    "    \"cases.0.diagnoses.0.ajcc_pathologic_m\": \"diag_ajcc_pathologic_m\",\n",
    "    \"cases.0.diagnoses.0.classification_of_tumor\": \"diag_classification_of_tumor\",\n",
    "    \"cases.0.diagnoses.0.icd_10_code\": \"diag_icd_10_code\",\n",
    "    \"cases.0.diagnoses.0.site_of_resection_or_biopsy\": \"diag_site_of_resection_or_biopsy\",\n",
    "    \"cases.0.diagnoses.0.progression_or_recurrence\": \"diag_progression_or_recurrence\",\n",
    "    \n",
    "    \"cases.0.samples.0.sample_type_id\": \"sample_type_id\",\n",
    "    \"cases.0.samples.0.sample_type\": \"sample_type\",\n",
    "    \"cases.0.samples.0.tissue_type\": \"tissue_type\",\n",
    "}"
   ]
  },
  {
   "cell_type": "code",
   "execution_count": 14,
   "id": "0fd8b98f-c590-4d14-9b33-75127115f8d7",
   "metadata": {
    "tags": []
   },
   "outputs": [],
   "source": [
    "metadata = all_metadata[list(fields.keys())]\n",
    "metadata = metadata.rename(columns=fields, inplace=False)\n",
    "metadata[\"patient_id\"] = metadata[\"submitter_id\"].apply(lambda row: row.split(\"-\")[2])"
   ]
  },
  {
   "cell_type": "code",
   "execution_count": 15,
   "id": "c9253c00-92fa-4d0a-bf4a-465f3ee081f0",
   "metadata": {},
   "outputs": [],
   "source": [
    "metadata.to_csv(\"metadata.csv\", index=False)"
   ]
  },
  {
   "cell_type": "markdown",
   "id": "d13a656c-4787-4182-b905-79e13ea404fb",
   "metadata": {},
   "source": [
    "# Scratch"
   ]
  },
  {
   "cell_type": "code",
   "execution_count": 6,
   "id": "c4a7f840-31ae-453b-9f17-af2ccf3313f2",
   "metadata": {
    "tags": []
   },
   "outputs": [
    {
     "data": {
      "text/plain": [
       "0.09619900843698356"
      ]
     },
     "execution_count": 6,
     "metadata": {},
     "output_type": "execute_result"
    }
   ],
   "source": [
    "sum(metadata[\"sample_type_id\"]>10) / len(metadata)"
   ]
  },
  {
   "cell_type": "code",
   "execution_count": 7,
   "id": "ae985792-6dcd-4bab-9e2b-06e3d7c5b987",
   "metadata": {
    "tags": []
   },
   "outputs": [
    {
     "data": {
      "text/plain": [
       "array(['Breast Invasive Carcinoma', 'Glioblastoma Multiforme',\n",
       "       'Lymphoid Neoplasm Diffuse Large B-cell Lymphoma',\n",
       "       'Colon Adenocarcinoma', 'Brain Lower Grade Glioma', 'Mesothelioma',\n",
       "       'Lung Adenocarcinoma', 'Lung Squamous Cell Carcinoma',\n",
       "       'Rectum Adenocarcinoma', nan, 'Sarcoma'], dtype=object)"
      ]
     },
     "execution_count": 7,
     "metadata": {},
     "output_type": "execute_result"
    }
   ],
   "source": [
    "metadata[\"project_disease_type\"].unique()"
   ]
  },
  {
   "cell_type": "code",
   "execution_count": 8,
   "id": "e2aee042-7834-43f0-b84c-b47ff891c456",
   "metadata": {
    "tags": []
   },
   "outputs": [
    {
     "data": {
      "text/plain": [
       "array(['Ductal and Lobular Neoplasms',\n",
       "       'Cystic, Mucinous and Serous Neoplasms',\n",
       "       'Epithelial Neoplasms, NOS', 'Complex Epithelial Neoplasms',\n",
       "       'Basal Cell Neoplasms', 'Adenomas and Adenocarcinomas',\n",
       "       'Fibroepithelial Neoplasms', 'Gliomas', 'Not Reported',\n",
       "       'Mature B-Cell Lymphomas', 'Mesothelial Neoplasms',\n",
       "       'Acinar Cell Neoplasms', 'Squamous Cell Neoplasms',\n",
       "       'Paragangliomas and Glomus Tumors', 'Neoplasms, NOS', nan,\n",
       "       'Lipomatous Neoplasms', 'Adnexal and Skin Appendage Neoplasms'],\n",
       "      dtype=object)"
      ]
     },
     "execution_count": 8,
     "metadata": {},
     "output_type": "execute_result"
    }
   ],
   "source": [
    "metadata[\"disease_type\"].unique()"
   ]
  },
  {
   "cell_type": "code",
   "execution_count": 9,
   "id": "a2b380af-3a3e-4d35-85b1-b15e0aca96ed",
   "metadata": {
    "tags": []
   },
   "outputs": [
    {
     "data": {
      "text/plain": [
       "array(['Breast', 'Brain', 'Lymph Nodes', 'Colorectal', 'Pleura', 'Lung',\n",
       "       nan, 'Soft Tissue'], dtype=object)"
      ]
     },
     "execution_count": 9,
     "metadata": {},
     "output_type": "execute_result"
    }
   ],
   "source": [
    "metadata[\"project_primary_site\"].unique()"
   ]
  },
  {
   "cell_type": "code",
   "execution_count": 11,
   "id": "5a6b1ee9-cbae-4c71-ac58-9d4a81b3c896",
   "metadata": {
    "tags": []
   },
   "outputs": [
    {
     "data": {
      "text/plain": [
       "disease_type\n",
       "Adenomas and Adenocarcinomas                9\n",
       "Adnexal and Skin Appendage Neoplasms        3\n",
       "Basal Cell Neoplasms                        2\n",
       "Complex Epithelial Neoplasms               37\n",
       "Cystic, Mucinous and Serous Neoplasms      37\n",
       "Ductal and Lobular Neoplasms             3001\n",
       "Epithelial Neoplasms, NOS                  13\n",
       "Fibroepithelial Neoplasms                   4\n",
       "Mature B-Cell Lymphomas                     2\n",
       "Squamous Cell Neoplasms                     5\n",
       "Name: id, dtype: int64"
      ]
     },
     "execution_count": 11,
     "metadata": {},
     "output_type": "execute_result"
    }
   ],
   "source": [
    "metadata[metadata[\"primary_site\"]==\"Breast\"].groupby([\"disease_type\"])[\"id\"].count()"
   ]
  },
  {
   "cell_type": "code",
   "execution_count": 12,
   "id": "0c8be3c3-0987-42eb-b828-643cbe06c582",
   "metadata": {
    "tags": []
   },
   "outputs": [
    {
     "data": {
      "text/plain": [
       "84"
      ]
     },
     "execution_count": 12,
     "metadata": {},
     "output_type": "execute_result"
    }
   ],
   "source": [
    "sum(metadata[\"project_disease_type\"].isna())"
   ]
  },
  {
   "cell_type": "code",
   "execution_count": 13,
   "id": "834161ec-d094-4dd9-9b1b-92cba6c076a0",
   "metadata": {},
   "outputs": [
    {
     "data": {
      "text/plain": [
       "4"
      ]
     },
     "execution_count": 13,
     "metadata": {},
     "output_type": "execute_result"
    }
   ],
   "source": [
    "sum(metadata[\"disease_type\"].isna())"
   ]
  }
 ],
 "metadata": {
  "kernelspec": {
   "display_name": "Python 3 (ipykernel)",
   "language": "python",
   "name": "python3"
  },
  "language_info": {
   "codemirror_mode": {
    "name": "ipython",
    "version": 3
   },
   "file_extension": ".py",
   "mimetype": "text/x-python",
   "name": "python",
   "nbconvert_exporter": "python",
   "pygments_lexer": "ipython3",
   "version": "3.10.10"
  }
 },
 "nbformat": 4,
 "nbformat_minor": 5
}
